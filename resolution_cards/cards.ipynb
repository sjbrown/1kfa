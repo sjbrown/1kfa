{
 "cells": [
  {
   "cell_type": "code",
   "execution_count": 1,
   "metadata": {
    "collapsed": true
   },
   "outputs": [],
   "source": [
    "import random\n",
    "from collections import defaultdict\n",
    "\n",
    "def pct(x, total):\n",
    "    return '%2.1f%%' % (100*float(x)/total)\n",
    "\n",
    "x=[8,4,6,2]; a = [1]*x[0] + [2]*x[1] + [3]*x[2] + [4]*x[3]\n",
    "x=[5,6,5,4]; b = [1]*x[0] + [2]*x[1] + [3]*x[2] + [4]*x[3]\n",
    "x=[4,5,6,5]; c = [1]*x[0] + [2]*x[1] + [3]*x[2] + [4]*x[3]\n",
    "x=[2,6,4,8]; d = [1]*x[0] + [2]*x[1] + [3]*x[2] + [4]*x[3]\n",
    "\n",
    "cards = [\n",
    " {'Pro': False, 'Stamina': False, 'a': 1, 'b': 1, 'c': 1, 'd': 1, 'crit_fail': True},\n",
    " {'Pro': True,  'Stamina': False, 'a': 1, 'b': 2, 'c': 4, 'd': 1},\n",
    " {'Pro': False, 'Stamina': False, 'a': 1, 'b': 2, 'c': 3, 'd': 2},\n",
    " {'Pro': False, 'Stamina': False, 'a': 1, 'b': 4, 'c': 3, 'd': 4},\n",
    " {'Pro': False, 'Stamina': False, 'a': 2, 'b': 2, 'c': 3, 'd': 4},\n",
    " {'Pro': False, 'Stamina': False, 'a': 2, 'b': 3, 'c': 2, 'd': 3},\n",
    " {'Pro': False, 'Stamina': False, 'a': 1, 'b': 1, 'c': 2, 'd': 3},\n",
    " {'Pro': False, 'Stamina': False, 'a': 2, 'b': 1, 'c': 2, 'd': 3},\n",
    " {'Pro': True,  'Stamina': False, 'a': 2, 'b': 2, 'c': 1, 'd': 2},\n",
    " {'Pro': False, 'Stamina': False, 'a': 3, 'b': 1, 'c': 2, 'd': 2},\n",
    " {'Pro': False, 'Stamina': True, 'a': 4, 'b': 4, 'c': 4, 'd': 4, 'crit_win': True},\n",
    " {'Pro': False, 'Stamina': True, 'a': 1, 'b': 3, 'c': 3, 'd': 4},\n",
    " {'Pro': False, 'Stamina': True, 'a': 3, 'b': 3, 'c': 4, 'd': 2},\n",
    " {'Pro': True,  'Stamina': True, 'a': 3, 'b': 1, 'c': 3, 'd': 4},\n",
    " {'Pro': False, 'Stamina': True, 'a': 1, 'b': 2, 'c': 2, 'd': 4},\n",
    " {'Pro': True,  'Stamina': True, 'a': 3, 'b': 2, 'c': 1, 'd': 4},\n",
    " {'Pro': True,  'Stamina': True, 'a': 1, 'b': 4, 'c': 4, 'd': 2},\n",
    " {'Pro': False, 'Stamina': True, 'a': 3, 'b': 4, 'c': 3, 'd': 4},\n",
    " {'Pro': False, 'Stamina': True, 'a': 4, 'b': 3, 'c': 4, 'd': 2},\n",
    " {'Pro': False, 'Stamina': True, 'a': 3, 'b': 3, 'c': 1, 'd': 3},\n",
    "]\n",
    "\n",
    "def count_checks_in_suit(cards, suit):\n",
    "    return sum(card[suit]-2 for card in cards if card[suit] >= 3)\n",
    "\n",
    "def count_exes_in_suit(cards, suit):\n",
    "    return sum(3-card[suit] for card in cards if card[suit] < 3)\n",
    "\n",
    "blessing_cards = [\n",
    " {'Pro': False, 'Stamina': False, 'a': 3, 'b': 3, 'c': 3, 'd': 3, 'blessing': 'copper'},\n",
    " {'Pro': False, 'Stamina': False, 'a': 3, 'b': 3, 'c': 3, 'd': 3, 'blessing': 'copper'},\n",
    " {'Pro': False, 'Stamina': False, 'a': 3, 'b': 3, 'c': 3, 'd': 4, 'blessing': 'copper'},\n",
    " {'Pro': False, 'Stamina': False, 'a': 3, 'b': 3, 'c': 3, 'd': 4, 'blessing': 'copper'},\n",
    " {'Pro': False, 'Stamina': False, 'a': 4, 'b': 4, 'c': 4, 'd': 4, 'blessing': 'gold'},\n",
    " {'Pro': False, 'Stamina': False, 'a': 4, 'b': 4, 'c': 4, 'd': 4, 'blessing': 'gold'},\n",
    " {'Pro': False, 'Stamina': False, 'a': 4, 'b': 4, 'c': 4, 'd': 4, 'blessing': 'gold'},\n",
    " {'Pro': False, 'Stamina': False, 'a': 4, 'b': 4, 'c': 4, 'd': 4, 'blessing': 'gold'},\n",
    "]\n"
   ]
  },
  {
   "cell_type": "code",
   "execution_count": 2,
   "metadata": {
    "collapsed": true
   },
   "outputs": [],
   "source": [
    "def flip(deck):\n",
    "    # Takes a card off the deck and returns that new deck\n",
    "    new_deck = deck[:]\n",
    "    random.shuffle(new_deck)\n",
    "    res = new_deck.pop()\n",
    "    return res, new_deck\n",
    "\n",
    "def flip_cards(cards, num=1):\n",
    "    \"\"\"\n",
    "    Takes a card off the deck and returns that new deck\n",
    "\n",
    "    Throws IndexError if there weren't eneough cards to flip\n",
    "    \"\"\"\n",
    "    remaining = cards[:]\n",
    "    random.shuffle(remaining)\n",
    "    flipped = []\n",
    "    for i in range(num):\n",
    "        flipped.append(remaining.pop())\n",
    "    return flipped, remaining\n",
    "\n",
    "def one_flip(deck):\n",
    "    return flip(deck)[0]\n",
    "\n",
    "def two_flip(deck):\n",
    "    a, deck = flip(deck)\n",
    "    b, deck = flip(deck)\n",
    "    return a, b\n",
    "\n",
    "def three_flip(deck):\n",
    "    a, deck = flip(deck)\n",
    "    b, deck = flip(deck)\n",
    "    c, deck = flip(deck)\n",
    "    return a, b, c\n",
    "\n",
    "def four_flip(deck):\n",
    "    a, deck = flip(deck)\n",
    "    b, deck = flip(deck)\n",
    "    c, deck = flip(deck)\n",
    "    d, deck = flip(deck)\n",
    "    return a, b, c, d\n",
    "\n"
   ]
  },
  {
   "cell_type": "code",
   "execution_count": 4,
   "metadata": {
    "collapsed": true
   },
   "outputs": [],
   "source": [
    "%matplotlib inline\n",
    "import numpy as np\n",
    "import pandas as pd\n",
    "import seaborn as sns\n"
   ]
  },
  {
   "cell_type": "code",
   "execution_count": 5,
   "metadata": {
    "collapsed": false
   },
   "outputs": [],
   "source": [
    "data = pd.DataFrame(cards)\n"
   ]
  },
  {
   "cell_type": "code",
   "execution_count": 56,
   "metadata": {
    "collapsed": false
   },
   "outputs": [],
   "source": [
    "def draw_dist(suit):\n",
    "    g = sns.countplot(data=data, x=suit, palette='RdBu')\n",
    "    g.axes.set_ylim(0,10)\n",
    "    sns.despine()"
   ]
  },
  {
   "cell_type": "code",
   "execution_count": 57,
   "metadata": {
    "collapsed": false
   },
   "outputs": [
    {
     "data": {
      "image/png": "[encoded data removed]",
      "text/plain": [
       "<matplotlib.figure.Figure at 0x7f1416ac2610>"
      ]
     },
     "metadata": {},
     "output_type": "display_data"
    }
   ],
   "source": [
    "draw_dist('a')"
   ]
  },
  {
   "cell_type": "code",
   "execution_count": 58,
   "metadata": {
    "collapsed": false
   },
   "outputs": [
    {
     "data": {
      "image/png": "[encoded data removed]",
      "text/plain": [
       "<matplotlib.figure.Figure at 0x7f141600c5d0>"
      ]
     },
     "metadata": {},
     "output_type": "display_data"
    }
   ],
   "source": [
    "draw_dist('b')"
   ]
  },
  {
   "cell_type": "code",
   "execution_count": 59,
   "metadata": {
    "collapsed": false
   },
   "outputs": [
    {
     "data": {
      "image/png": "[encoded data removed]",
      "text/plain": [
       "<matplotlib.figure.Figure at 0x7f1415d69c10>"
      ]
     },
     "metadata": {},
     "output_type": "display_data"
    }
   ],
   "source": [
    "draw_dist('c')"
   ]
  },
  {
   "cell_type": "code",
   "execution_count": 60,
   "metadata": {
    "collapsed": false
   },
   "outputs": [
    {
     "data": {
      "image/png": "[encoded data removed]",
      "text/plain": [
       "<matplotlib.figure.Figure at 0x7f1415c9e510>"
      ]
     },
     "metadata": {},
     "output_type": "display_data"
    }
   ],
   "source": [
    "draw_dist('d')"
   ]
  },
  {
   "cell_type": "code",
   "execution_count": null,
   "metadata": {
    "collapsed": false
   },
   "outputs": [],
   "source": []
  },
  {
   "cell_type": "code",
   "execution_count": null,
   "metadata": {
    "collapsed": false
   },
   "outputs": [],
   "source": [
    "\n"
   ]
  }
 ],
 "metadata": {
  "kernelspec": {
   "display_name": "Python 2",
   "language": "python",
   "name": "python2"
  },
  "language_info": {
   "codemirror_mode": {
    "name": "ipython",
    "version": 2
   },
   "file_extension": ".py",
   "mimetype": "text/x-python",
   "name": "python",
   "nbconvert_exporter": "python",
   "pygments_lexer": "ipython2",
   "version": "2.7.12"
  }
 },
 "nbformat": 4,
 "nbformat_minor": 2
}
